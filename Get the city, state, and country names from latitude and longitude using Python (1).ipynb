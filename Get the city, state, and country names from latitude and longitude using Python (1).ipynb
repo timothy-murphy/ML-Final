{
 "cells": [
  {
   "cell_type": "code",
   "execution_count": 1,
   "metadata": {},
   "outputs": [
    {
     "name": "stdout",
     "output_type": "stream",
     "text": [
      "Collecting geopy\n",
      "  Downloading geopy-2.2.0-py3-none-any.whl (118 kB)\n",
      "Collecting geographiclib<2,>=1.49\n",
      "  Downloading geographiclib-1.52-py3-none-any.whl (38 kB)\n",
      "Installing collected packages: geographiclib, geopy\n",
      "Successfully installed geographiclib-1.52 geopy-2.2.0\n",
      "Note: you may need to restart the kernel to use updated packages.\n"
     ]
    }
   ],
   "source": [
    "pip install geopy"
   ]
  },
  {
   "cell_type": "code",
   "execution_count": 1,
   "metadata": {},
   "outputs": [],
   "source": [
    "from geopy.geocoders import Nominatim"
   ]
  },
  {
   "cell_type": "code",
   "execution_count": 2,
   "metadata": {},
   "outputs": [],
   "source": [
    "geolocator = Nominatim(user_agent=\"geoapiExercises\")"
   ]
  },
  {
   "cell_type": "code",
   "execution_count": 3,
   "metadata": {},
   "outputs": [
    {
     "name": "stdout",
     "output_type": "stream",
     "text": [
      "Dudley Dough, Washington Street, Nubian Square, Roxbury, Boston, Suffolk County, Massachusetts, 02119, United States\n"
     ]
    }
   ],
   "source": [
    "Latitude = \"42.33011862\"\n",
    "Longitude = \"-71.08425106\"\n",
    "\n",
    "location = geolocator.reverse(Latitude+\",\"+Longitude)\n",
    "print(location)"
   ]
  },
  {
   "cell_type": "code",
   "execution_count": 4,
   "metadata": {},
   "outputs": [
    {
     "name": "stdout",
     "output_type": "stream",
     "text": [
      "{'amenity': 'Dudley Dough', 'road': 'Washington Street', 'neighbourhood': 'Nubian Square', 'suburb': 'Roxbury', 'city': 'Boston', 'county': 'Suffolk County', 'state': 'Massachusetts', 'postcode': '02119', 'country': 'United States', 'country_code': 'us'}\n"
     ]
    }
   ],
   "source": [
    "address = location.raw['address']\n",
    "print(address)"
   ]
  },
  {
   "cell_type": "code",
   "execution_count": 5,
   "metadata": {},
   "outputs": [
    {
     "name": "stdout",
     "output_type": "stream",
     "text": [
      "City :  Boston\n",
      "State :  Massachusetts\n",
      "Country :  United States\n",
      "Zip Code :  02119\n"
     ]
    }
   ],
   "source": [
    "city = address.get('city', '')\n",
    "state = address.get('state', '')\n",
    "country = address.get('country', '')\n",
    "code = address.get('country_code')\n",
    "zipcode = address.get('postcode')\n",
    "print('City : ',city)\n",
    "print('State : ',state)\n",
    "print('Country : ',country)\n",
    "print('Zip Code : ', zipcode)"
   ]
  },
  {
   "cell_type": "code",
   "execution_count": null,
   "metadata": {},
   "outputs": [],
   "source": []
  }
 ],
 "metadata": {
  "kernelspec": {
   "display_name": "Python 3",
   "language": "python",
   "name": "python3"
  },
  "language_info": {
   "codemirror_mode": {
    "name": "ipython",
    "version": 3
   },
   "file_extension": ".py",
   "mimetype": "text/x-python",
   "name": "python",
   "nbconvert_exporter": "python",
   "pygments_lexer": "ipython3",
   "version": "3.9.0"
  }
 },
 "nbformat": 4,
 "nbformat_minor": 4
}
