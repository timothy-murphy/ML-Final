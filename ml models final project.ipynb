{
 "cells": [
  {
   "cell_type": "code",
   "execution_count": 49,
   "metadata": {},
   "outputs": [],
   "source": [
    "import pandas as pd\n",
    "from sklearn.neighbors import KNeighborsClassifier\n",
    "import numpy as np\n",
    "from sklearn.model_selection import train_test_split, cross_val_score\n",
    "import csv\n",
    "from csv import writer\n",
    "from csv import reader\n",
    "from sklearn.tree import DecisionTreeClassifier\n",
    "from sklearn.cluster import KMeans\n",
    "from matplotlib import pyplot as plt\n",
    "from sklearn.metrics import confusion_matrix\n",
    "from sklearn.metrics import plot_confusion_matrix"
   ]
  },
  {
   "cell_type": "code",
   "execution_count": null,
   "metadata": {},
   "outputs": [],
   "source": [
    "with open('merged_data(1).csv', 'r') as read_obj: \n",
    "    with open('new_merged_data.csv', 'w', newline='') as write_obj:\n",
    "        csv_reader = reader(read_obj)\n",
    "        csv_writer = writer(write_obj)\n",
    "        next(csv_reader)\n",
    "        for row in csv_reader:\n",
    "            if float(row[1]) > 1200000:\n",
    "                row.append('very high')\n",
    "            if float(row[1]) > 800000 and float(row[1]) <1200000:\n",
    "                row.append('high')\n",
    "            if float(row[1]) > 500000 and float(row[1]) <800000:\n",
    "                row.append('medium')\n",
    "            if float(row[1]) > 316178.0 and float(row[1]) <500000:\n",
    "                row.append('low')\n",
    "            csv_writer.writerow(row)"
   ]
  },
  {
   "cell_type": "code",
   "execution_count": 50,
   "metadata": {},
   "outputs": [
    {
     "data": {
      "text/html": [
       "<div>\n",
       "<style scoped>\n",
       "    .dataframe tbody tr th:only-of-type {\n",
       "        vertical-align: middle;\n",
       "    }\n",
       "\n",
       "    .dataframe tbody tr th {\n",
       "        vertical-align: top;\n",
       "    }\n",
       "\n",
       "    .dataframe thead th {\n",
       "        text-align: right;\n",
       "    }\n",
       "</style>\n",
       "<table border=\"1\" class=\"dataframe\">\n",
       "  <thead>\n",
       "    <tr style=\"text-align: right;\">\n",
       "      <th></th>\n",
       "      <th>Neighborhood</th>\n",
       "      <th>prices</th>\n",
       "      <th>year</th>\n",
       "      <th>month</th>\n",
       "      <th>total crime</th>\n",
       "      <th>violent crime</th>\n",
       "      <th>drug crime</th>\n",
       "      <th>housing crime</th>\n",
       "      <th>price classified</th>\n",
       "    </tr>\n",
       "  </thead>\n",
       "  <tbody>\n",
       "    <tr>\n",
       "      <th>0</th>\n",
       "      <td>Allston</td>\n",
       "      <td>419685.0</td>\n",
       "      <td>2015</td>\n",
       "      <td>6</td>\n",
       "      <td>121</td>\n",
       "      <td>18</td>\n",
       "      <td>5</td>\n",
       "      <td>13</td>\n",
       "      <td>low</td>\n",
       "    </tr>\n",
       "    <tr>\n",
       "      <th>1</th>\n",
       "      <td>Allston</td>\n",
       "      <td>425878.0</td>\n",
       "      <td>2015</td>\n",
       "      <td>7</td>\n",
       "      <td>203</td>\n",
       "      <td>29</td>\n",
       "      <td>3</td>\n",
       "      <td>26</td>\n",
       "      <td>low</td>\n",
       "    </tr>\n",
       "    <tr>\n",
       "      <th>2</th>\n",
       "      <td>Allston</td>\n",
       "      <td>431874.0</td>\n",
       "      <td>2015</td>\n",
       "      <td>8</td>\n",
       "      <td>284</td>\n",
       "      <td>38</td>\n",
       "      <td>9</td>\n",
       "      <td>45</td>\n",
       "      <td>low</td>\n",
       "    </tr>\n",
       "    <tr>\n",
       "      <th>3</th>\n",
       "      <td>Allston</td>\n",
       "      <td>438437.0</td>\n",
       "      <td>2015</td>\n",
       "      <td>9</td>\n",
       "      <td>244</td>\n",
       "      <td>28</td>\n",
       "      <td>3</td>\n",
       "      <td>35</td>\n",
       "      <td>low</td>\n",
       "    </tr>\n",
       "    <tr>\n",
       "      <th>4</th>\n",
       "      <td>Allston</td>\n",
       "      <td>442258.0</td>\n",
       "      <td>2015</td>\n",
       "      <td>10</td>\n",
       "      <td>240</td>\n",
       "      <td>35</td>\n",
       "      <td>4</td>\n",
       "      <td>28</td>\n",
       "      <td>low</td>\n",
       "    </tr>\n",
       "  </tbody>\n",
       "</table>\n",
       "</div>"
      ],
      "text/plain": [
       "  Neighborhood    prices  year  month  total crime  violent crime  drug crime  \\\n",
       "0      Allston  419685.0  2015      6          121             18           5   \n",
       "1      Allston  425878.0  2015      7          203             29           3   \n",
       "2      Allston  431874.0  2015      8          284             38           9   \n",
       "3      Allston  438437.0  2015      9          244             28           3   \n",
       "4      Allston  442258.0  2015     10          240             35           4   \n",
       "\n",
       "   housing crime price classified  \n",
       "0             13              low  \n",
       "1             26              low  \n",
       "2             45              low  \n",
       "3             35              low  \n",
       "4             28              low  "
      ]
     },
     "execution_count": 50,
     "metadata": {},
     "output_type": "execute_result"
    }
   ],
   "source": [
    "new_df = pd.read_csv('new_merged_data.csv')\n",
    "new_df.head()"
   ]
  },
  {
   "cell_type": "code",
   "execution_count": 51,
   "metadata": {},
   "outputs": [
    {
     "data": {
      "text/html": [
       "<div>\n",
       "<style scoped>\n",
       "    .dataframe tbody tr th:only-of-type {\n",
       "        vertical-align: middle;\n",
       "    }\n",
       "\n",
       "    .dataframe tbody tr th {\n",
       "        vertical-align: top;\n",
       "    }\n",
       "\n",
       "    .dataframe thead th {\n",
       "        text-align: right;\n",
       "    }\n",
       "</style>\n",
       "<table border=\"1\" class=\"dataframe\">\n",
       "  <thead>\n",
       "    <tr style=\"text-align: right;\">\n",
       "      <th></th>\n",
       "      <th>Neighborhood</th>\n",
       "      <th>prices</th>\n",
       "      <th>year</th>\n",
       "      <th>month</th>\n",
       "      <th>total crime</th>\n",
       "      <th>violent crime</th>\n",
       "      <th>drug crime</th>\n",
       "      <th>housing crime</th>\n",
       "      <th>price classified</th>\n",
       "    </tr>\n",
       "  </thead>\n",
       "  <tbody>\n",
       "    <tr>\n",
       "      <th>95</th>\n",
       "      <td>Back Bay</td>\n",
       "      <td>1201619.0</td>\n",
       "      <td>2017</td>\n",
       "      <td>9</td>\n",
       "      <td>326</td>\n",
       "      <td>40</td>\n",
       "      <td>3</td>\n",
       "      <td>25</td>\n",
       "      <td>very high</td>\n",
       "    </tr>\n",
       "    <tr>\n",
       "      <th>96</th>\n",
       "      <td>Back Bay</td>\n",
       "      <td>1203238.0</td>\n",
       "      <td>2017</td>\n",
       "      <td>10</td>\n",
       "      <td>364</td>\n",
       "      <td>29</td>\n",
       "      <td>5</td>\n",
       "      <td>45</td>\n",
       "      <td>very high</td>\n",
       "    </tr>\n",
       "    <tr>\n",
       "      <th>97</th>\n",
       "      <td>Back Bay</td>\n",
       "      <td>1205302.0</td>\n",
       "      <td>2017</td>\n",
       "      <td>11</td>\n",
       "      <td>286</td>\n",
       "      <td>27</td>\n",
       "      <td>2</td>\n",
       "      <td>19</td>\n",
       "      <td>very high</td>\n",
       "    </tr>\n",
       "    <tr>\n",
       "      <th>98</th>\n",
       "      <td>Back Bay</td>\n",
       "      <td>1207919.0</td>\n",
       "      <td>2017</td>\n",
       "      <td>12</td>\n",
       "      <td>332</td>\n",
       "      <td>40</td>\n",
       "      <td>7</td>\n",
       "      <td>35</td>\n",
       "      <td>very high</td>\n",
       "    </tr>\n",
       "    <tr>\n",
       "      <th>99</th>\n",
       "      <td>Back Bay</td>\n",
       "      <td>1211685.0</td>\n",
       "      <td>2018</td>\n",
       "      <td>1</td>\n",
       "      <td>274</td>\n",
       "      <td>34</td>\n",
       "      <td>9</td>\n",
       "      <td>41</td>\n",
       "      <td>very high</td>\n",
       "    </tr>\n",
       "  </tbody>\n",
       "</table>\n",
       "</div>"
      ],
      "text/plain": [
       "   Neighborhood     prices  year  month  total crime  violent crime  \\\n",
       "95     Back Bay  1201619.0  2017      9          326             40   \n",
       "96     Back Bay  1203238.0  2017     10          364             29   \n",
       "97     Back Bay  1205302.0  2017     11          286             27   \n",
       "98     Back Bay  1207919.0  2017     12          332             40   \n",
       "99     Back Bay  1211685.0  2018      1          274             34   \n",
       "\n",
       "    drug crime  housing crime price classified  \n",
       "95           3             25        very high  \n",
       "96           5             45        very high  \n",
       "97           2             19        very high  \n",
       "98           7             35        very high  \n",
       "99           9             41        very high  "
      ]
     },
     "execution_count": 51,
     "metadata": {},
     "output_type": "execute_result"
    }
   ],
   "source": [
    "average_price = new_df.loc[new_df['price classified'] == 'very high']\n",
    "average_price.head()"
   ]
  },
  {
   "cell_type": "code",
   "execution_count": 52,
   "metadata": {},
   "outputs": [
    {
     "data": {
      "text/plain": [
       "<bound method DataFrame.sum of       Neighborhood  prices   year  month  total crime  violent crime  \\\n",
       "0            False   False  False  False        False          False   \n",
       "1            False   False  False  False        False          False   \n",
       "2            False   False  False  False        False          False   \n",
       "3            False   False  False  False        False          False   \n",
       "4            False   False  False  False        False          False   \n",
       "...            ...     ...    ...    ...          ...            ...   \n",
       "1626         False   False  False  False        False          False   \n",
       "1627         False   False  False  False        False          False   \n",
       "1628         False   False  False  False        False          False   \n",
       "1629         False   False  False  False        False          False   \n",
       "1630         False   False  False  False        False          False   \n",
       "\n",
       "      drug crime  housing crime  price classified  \n",
       "0          False          False             False  \n",
       "1          False          False             False  \n",
       "2          False          False             False  \n",
       "3          False          False             False  \n",
       "4          False          False             False  \n",
       "...          ...            ...               ...  \n",
       "1626       False          False             False  \n",
       "1627       False          False             False  \n",
       "1628       False          False             False  \n",
       "1629       False          False             False  \n",
       "1630       False          False             False  \n",
       "\n",
       "[1631 rows x 9 columns]>"
      ]
     },
     "execution_count": 52,
     "metadata": {},
     "output_type": "execute_result"
    }
   ],
   "source": [
    "new_df.isnull().sum()\n",
    "new_df['Neighborhood'].fillna(new_df['Neighborhood'].mode()[0], inplace = True)\n",
    "new_df['prices'].fillna(new_df['prices'].mode()[0], inplace = True)\n",
    "new_df['year'].fillna(new_df['year'].mode()[0], inplace = True)\n",
    "new_df['month'].fillna(new_df['month'].mode()[0], inplace = True)\n",
    "new_df['total crime'].fillna(new_df['total crime'].mode()[0], inplace = True)\n",
    "new_df['violent crime'].fillna(new_df['violent crime'].mode()[0], inplace = True)\n",
    "new_df['housing crime'].fillna(new_df['housing crime'].mode()[0], inplace = True)\n",
    "new_df['drug crime'].fillna(new_df['drug crime'].mode()[0], inplace = True)\n",
    "new_df['price classified'].fillna(new_df['price classified'].mode()[0], inplace = True)\n",
    "new_df.isnull().sum"
   ]
  },
  {
   "cell_type": "code",
   "execution_count": 48,
   "metadata": {},
   "outputs": [],
   "source": [
    "from sklearn.preprocessing import LabelEncoder\n",
    "lb_make = LabelEncoder()\n",
    "new_df['price classified'] = lb_make.fit_transform(new_df['price classified'])"
   ]
  },
  {
   "cell_type": "code",
   "execution_count": 53,
   "metadata": {},
   "outputs": [],
   "source": [
    "from sklearn.ensemble import ExtraTreesClassifier\n",
    "import matplotlib.pyplot as plt"
   ]
  },
  {
   "cell_type": "code",
   "execution_count": 54,
   "metadata": {},
   "outputs": [],
   "source": [
    "label = new_df['price classified']\n",
    "features = new_df[['violent crime', 'housing crime', 'drug crime', 'total crime']]"
   ]
  },
  {
   "cell_type": "code",
   "execution_count": 55,
   "metadata": {},
   "outputs": [
    {
     "data": {
      "text/plain": [
       "ExtraTreesClassifier()"
      ]
     },
     "execution_count": 55,
     "metadata": {},
     "output_type": "execute_result"
    }
   ],
   "source": [
    "model = ExtraTreesClassifier()\n",
    "model.fit(features,label)"
   ]
  },
  {
   "cell_type": "code",
   "execution_count": 56,
   "metadata": {},
   "outputs": [
    {
     "name": "stdout",
     "output_type": "stream",
     "text": [
      "[0.28501515 0.21529684 0.15647234 0.34321567]\n"
     ]
    },
    {
     "data": {
      "image/png": "[encoded data removed]",
      "text/plain": [
       "<Figure size 432x288 with 1 Axes>"
      ]
     },
     "metadata": {
      "needs_background": "light"
     },
     "output_type": "display_data"
    }
   ],
   "source": [
    "print(model.feature_importances_) #use inbuilt class feature_importances of tree based classifiers\n",
    "#plot graph of feature importances for better visualization\n",
    "feat_importances = pd.Series(model.feature_importances_, index=features.columns)\n",
    "feat_importances.nlargest(4).plot(kind='barh')\n",
    "plt.show()"
   ]
  },
  {
   "cell_type": "code",
   "execution_count": 57,
   "metadata": {},
   "outputs": [
    {
     "data": {
      "image/png": "[encoded data removed]",
      "text/plain": [
       "<Figure size 1152x576 with 1 Axes>"
      ]
     },
     "metadata": {
      "needs_background": "light"
     },
     "output_type": "display_data"
    }
   ],
   "source": [
    "from sklearn.cluster import KMeans\n",
    "distortions = []\n",
    "K = range(1,10)\n",
    "for k in K:\n",
    "    kmeanModel = KMeans(n_clusters=k)\n",
    "    kmeanModel.fit(features)\n",
    "    distortions.append(kmeanModel.inertia_)\n",
    "plt.figure(figsize=(16,8))\n",
    "plt.plot(K, distortions, 'bx-')\n",
    "plt.xlabel('k')\n",
    "plt.ylabel('Distortion')\n",
    "plt.title('The Elbow Method showing the optimal k')\n",
    "plt.show()"
   ]
  },
  {
   "cell_type": "code",
   "execution_count": 58,
   "metadata": {},
   "outputs": [],
   "source": [
    "X_train, X_test, y_train, y_test = train_test_split(features, label, test_size=0.2)"
   ]
  },
  {
   "cell_type": "code",
   "execution_count": 59,
   "metadata": {},
   "outputs": [],
   "source": [
    "X_train2, X_test2, y_train2, y_test2 = train_test_split(features, label, test_size=0.2)"
   ]
  },
  {
   "cell_type": "code",
   "execution_count": 60,
   "metadata": {},
   "outputs": [
    {
     "name": "stdout",
     "output_type": "stream",
     "text": [
      "0.7125382262996942\n"
     ]
    }
   ],
   "source": [
    "knn = KNeighborsClassifier(n_neighbors=4)\n",
    "model = knn.fit(X_train, np.ravel(y_train))\n",
    "y_pred = model.predict(X_test2)\n",
    "accuracy = model.score(X_test, y_test)\n",
    "print(accuracy)"
   ]
  },
  {
   "cell_type": "code",
   "execution_count": 61,
   "metadata": {},
   "outputs": [
    {
     "data": {
      "text/plain": [
       "array([[33, 16, 36,  0],\n",
       "       [22, 19, 31,  0],\n",
       "       [42, 49, 71,  1],\n",
       "       [ 6,  1,  0,  0]])"
      ]
     },
     "execution_count": 61,
     "metadata": {},
     "output_type": "execute_result"
    }
   ],
   "source": [
    "confusion_matrix(y_test, y_pred)"
   ]
  },
  {
   "cell_type": "code",
   "execution_count": 62,
   "metadata": {},
   "outputs": [
    {
     "data": {
      "image/png": "[encoded data removed]",
      "text/plain": [
       "<Figure size 432x288 with 2 Axes>"
      ]
     },
     "metadata": {
      "needs_background": "light"
     },
     "output_type": "display_data"
    }
   ],
   "source": [
    "matrix = plot_confusion_matrix(model, X_test, y_test)\n",
    "matrix.ax_.set_title('Confusion Matrix', color = 'white')\n",
    "plt.xlabel('Predicted Label', color = 'white')\n",
    "plt.ylabel('True Label', color = 'white')\n",
    "plt.gcf().axes[0].tick_params(colors = 'black')\n",
    "plt.gcf().axes[1].tick_params(colors = 'black')"
   ]
  },
  {
   "cell_type": "code",
   "execution_count": 63,
   "metadata": {},
   "outputs": [
    {
     "name": "stdout",
     "output_type": "stream",
     "text": [
      "              precision    recall  f1-score   support\n",
      "\n",
      "        high       0.32      0.39      0.35        85\n",
      "         low       0.22      0.26      0.24        72\n",
      "      medium       0.51      0.44      0.47       163\n",
      "   very high       0.00      0.00      0.00         7\n",
      "\n",
      "    accuracy                           0.38       327\n",
      "   macro avg       0.26      0.27      0.27       327\n",
      "weighted avg       0.39      0.38      0.38       327\n",
      "\n"
     ]
    }
   ],
   "source": [
    "from sklearn.metrics import classification_report\n",
    "print(classification_report(y_test, y_pred))"
   ]
  },
  {
   "cell_type": "code",
   "execution_count": 64,
   "metadata": {},
   "outputs": [
    {
     "name": "stdout",
     "output_type": "stream",
     "text": [
      "0.6605504587155964\n"
     ]
    }
   ],
   "source": [
    "clf = DecisionTreeClassifier(criterion=\"gini\", max_depth=6)\n",
    "clf = clf.fit(X_train,y_train)\n",
    "y_pred = clf.predict(X_test)\n",
    "accuracy = clf.score(X_test, y_test)\n",
    "print(accuracy)"
   ]
  },
  {
   "cell_type": "code",
   "execution_count": 65,
   "metadata": {},
   "outputs": [
    {
     "name": "stdout",
     "output_type": "stream",
     "text": [
      "              precision    recall  f1-score   support\n",
      "\n",
      "        high       0.58      0.78      0.67        85\n",
      "         low       0.70      0.62      0.66        72\n",
      "      medium       0.70      0.64      0.67       163\n",
      "   very high       0.00      0.00      0.00         7\n",
      "\n",
      "    accuracy                           0.66       327\n",
      "   macro avg       0.50      0.51      0.50       327\n",
      "weighted avg       0.66      0.66      0.65       327\n",
      "\n"
     ]
    },
    {
     "name": "stderr",
     "output_type": "stream",
     "text": [
      "/Library/Frameworks/Python.framework/Versions/3.9/lib/python3.9/site-packages/sklearn/metrics/_classification.py:1248: UndefinedMetricWarning: Precision and F-score are ill-defined and being set to 0.0 in labels with no predicted samples. Use `zero_division` parameter to control this behavior.\n",
      "  _warn_prf(average, modifier, msg_start, len(result))\n",
      "/Library/Frameworks/Python.framework/Versions/3.9/lib/python3.9/site-packages/sklearn/metrics/_classification.py:1248: UndefinedMetricWarning: Precision and F-score are ill-defined and being set to 0.0 in labels with no predicted samples. Use `zero_division` parameter to control this behavior.\n",
      "  _warn_prf(average, modifier, msg_start, len(result))\n",
      "/Library/Frameworks/Python.framework/Versions/3.9/lib/python3.9/site-packages/sklearn/metrics/_classification.py:1248: UndefinedMetricWarning: Precision and F-score are ill-defined and being set to 0.0 in labels with no predicted samples. Use `zero_division` parameter to control this behavior.\n",
      "  _warn_prf(average, modifier, msg_start, len(result))\n"
     ]
    }
   ],
   "source": [
    "print(classification_report(y_test, y_pred))"
   ]
  },
  {
   "cell_type": "markdown",
   "metadata": {},
   "source": [
    "Random Forest"
   ]
  },
  {
   "cell_type": "code",
   "execution_count": 66,
   "metadata": {},
   "outputs": [
    {
     "name": "stdout",
     "output_type": "stream",
     "text": [
      "0.7217125382262997\n"
     ]
    }
   ],
   "source": [
    "from numpy import mean\n",
    "from numpy import std\n",
    "from sklearn.datasets import make_classification\n",
    "from sklearn.model_selection import cross_val_score\n",
    "from sklearn.model_selection import RepeatedStratifiedKFold\n",
    "from sklearn.ensemble import RandomForestClassifier\n",
    "\n",
    "forest_model = RandomForestClassifier()\n",
    "forest_model.fit(X_train, y_train)\n",
    "Y_pred_rf = forest_model.predict(X_test)\n",
    "accuracy = forest_model.score(X_test, y_test)\n",
    "print(accuracy)"
   ]
  },
  {
   "cell_type": "code",
   "execution_count": 67,
   "metadata": {},
   "outputs": [
    {
     "data": {
      "text/plain": [
       "array([[ 68,   3,  13,   1],\n",
       "       [  2,  45,  24,   1],\n",
       "       [ 24,  13, 123,   3],\n",
       "       [  4,   0,   3,   0]])"
      ]
     },
     "execution_count": 67,
     "metadata": {},
     "output_type": "execute_result"
    }
   ],
   "source": [
    "confusion_matrix(y_test, Y_pred_rf)"
   ]
  },
  {
   "cell_type": "code",
   "execution_count": 68,
   "metadata": {},
   "outputs": [
    {
     "data": {
      "image/png": "[encoded data removed]",
      "text/plain": [
       "<Figure size 432x288 with 2 Axes>"
      ]
     },
     "metadata": {
      "needs_background": "light"
     },
     "output_type": "display_data"
    }
   ],
   "source": [
    "matrix = plot_confusion_matrix(forest_model, X_test, y_test)\n",
    "matrix.ax_.set_title('Confusion Matrix', color = 'white')\n",
    "plt.xlabel('Predicted Label', color = 'white')\n",
    "plt.ylabel('True Label', color = 'white')\n",
    "plt.gcf().axes[0].tick_params(colors = 'black')\n",
    "plt.gcf().axes[1].tick_params(colors = 'black')"
   ]
  },
  {
   "cell_type": "code",
   "execution_count": 69,
   "metadata": {},
   "outputs": [
    {
     "name": "stdout",
     "output_type": "stream",
     "text": [
      "              precision    recall  f1-score   support\n",
      "\n",
      "        high       0.69      0.80      0.74        85\n",
      "         low       0.74      0.62      0.68        72\n",
      "      medium       0.75      0.75      0.75       163\n",
      "   very high       0.00      0.00      0.00         7\n",
      "\n",
      "    accuracy                           0.72       327\n",
      "   macro avg       0.55      0.54      0.54       327\n",
      "weighted avg       0.72      0.72      0.72       327\n",
      "\n"
     ]
    }
   ],
   "source": [
    "print(classification_report(y_test, Y_pred_rf))"
   ]
  },
  {
   "cell_type": "markdown",
   "metadata": {},
   "source": [
    "Neural network"
   ]
  },
  {
   "cell_type": "code",
   "execution_count": 23,
   "metadata": {},
   "outputs": [],
   "source": [
    "from keras.models import Sequential \n",
    "from keras.layers import Dense\n",
    "import tensorflow as tf\n",
    "tf.convert_to_tensor(y_train, np.float)\n",
    "tf.convert_to_tensor(X_train, np.float)\n",
    "X_train=np.asarray(X_train).astype(np.float32)\n",
    "X_test=np.asarray(X_test).astype(np.float32)\n",
    "y_train=np.asarray(y_train).astype(np.float32)\n",
    "y_test=np.asarray(y_test).astype(np.float32)"
   ]
  },
  {
   "cell_type": "code",
   "execution_count": 24,
   "metadata": {},
   "outputs": [],
   "source": [
    "from keras.models import Sequential \n",
    "from keras.layers import Dense\n",
    "model = Sequential()\n",
    "model.add(Dense(4, input_dim=4, activation='relu'))\n",
    "model.add(Dense(5, activation='relu'))\n",
    "model.add(Dense(1, activation='softmax'))"
   ]
  },
  {
   "cell_type": "code",
   "execution_count": 25,
   "metadata": {},
   "outputs": [],
   "source": [
    "model.compile(loss='categorical_crossentropy', optimizer='nadam', metrics=['accuracy'])"
   ]
  },
  {
   "cell_type": "code",
   "execution_count": 26,
   "metadata": {},
   "outputs": [
    {
     "name": "stdout",
     "output_type": "stream",
     "text": [
      "Epoch 1/300\n",
      "44/44 [==============================] - 12s 1ms/step - loss: 0.0000e+00 - accuracy: 0.1990\n",
      "Epoch 2/300\n",
      "44/44 [==============================] - 0s 831us/step - loss: 0.0000e+00 - accuracy: 0.2053\n",
      "Epoch 3/300\n",
      "44/44 [==============================] - 0s 1ms/step - loss: 0.0000e+00 - accuracy: 0.2044\n",
      "Epoch 4/300\n",
      "44/44 [==============================] - 0s 691us/step - loss: 0.0000e+00 - accuracy: 0.2072\n",
      "Epoch 5/300\n",
      "44/44 [==============================] - 0s 824us/step - loss: 0.0000e+00 - accuracy: 0.2025\n",
      "Epoch 6/300\n",
      "44/44 [==============================] - 0s 788us/step - loss: 0.0000e+00 - accuracy: 0.2126\n",
      "Epoch 7/300\n",
      "44/44 [==============================] - 0s 747us/step - loss: 0.0000e+00 - accuracy: 0.1832\n",
      "Epoch 8/300\n",
      "44/44 [==============================] - 0s 781us/step - loss: 0.0000e+00 - accuracy: 0.1975\n",
      "Epoch 9/300\n",
      "44/44 [==============================] - 0s 745us/step - loss: 0.0000e+00 - accuracy: 0.1966\n",
      "Epoch 10/300\n",
      "44/44 [==============================] - 0s 747us/step - loss: 0.0000e+00 - accuracy: 0.1918\n",
      "Epoch 11/300\n",
      "44/44 [==============================] - 0s 739us/step - loss: 0.0000e+00 - accuracy: 0.1946\n",
      "Epoch 12/300\n",
      "44/44 [==============================] - 0s 736us/step - loss: 0.0000e+00 - accuracy: 0.1775\n",
      "Epoch 13/300\n",
      "44/44 [==============================] - 0s 788us/step - loss: 0.0000e+00 - accuracy: 0.1910\n",
      "Epoch 14/300\n",
      "44/44 [==============================] - 0s 1ms/step - loss: 0.0000e+00 - accuracy: 0.1989\n",
      "Epoch 15/300\n",
      "44/44 [==============================] - 0s 835us/step - loss: 0.0000e+00 - accuracy: 0.1915\n",
      "Epoch 16/300\n",
      "44/44 [==============================] - 0s 781us/step - loss: 0.0000e+00 - accuracy: 0.1858\n",
      "Epoch 17/300\n",
      "44/44 [==============================] - 0s 723us/step - loss: 0.0000e+00 - accuracy: 0.1937\n",
      "Epoch 18/300\n",
      "44/44 [==============================] - 0s 797us/step - loss: 0.0000e+00 - accuracy: 0.1778\n",
      "Epoch 19/300\n",
      "44/44 [==============================] - 0s 729us/step - loss: 0.0000e+00 - accuracy: 0.1727\n",
      "Epoch 20/300\n",
      "44/44 [==============================] - 0s 801us/step - loss: 0.0000e+00 - accuracy: 0.1723\n",
      "Epoch 21/300\n",
      "44/44 [==============================] - 0s 745us/step - loss: 0.0000e+00 - accuracy: 0.1847\n",
      "Epoch 22/300\n",
      "44/44 [==============================] - 0s 781us/step - loss: 0.0000e+00 - accuracy: 0.1752\n",
      "Epoch 23/300\n",
      "44/44 [==============================] - 0s 748us/step - loss: 0.0000e+00 - accuracy: 0.2165\n",
      "Epoch 24/300\n",
      "44/44 [==============================] - 0s 805us/step - loss: 0.0000e+00 - accuracy: 0.1909\n",
      "Epoch 25/300\n",
      "44/44 [==============================] - 0s 757us/step - loss: 0.0000e+00 - accuracy: 0.2031\n",
      "Epoch 26/300\n",
      "44/44 [==============================] - 0s 819us/step - loss: 0.0000e+00 - accuracy: 0.1822\n",
      "Epoch 27/300\n",
      "44/44 [==============================] - 0s 737us/step - loss: 0.0000e+00 - accuracy: 0.1991\n",
      "Epoch 28/300\n",
      "44/44 [==============================] - 0s 780us/step - loss: 0.0000e+00 - accuracy: 0.2013\n",
      "Epoch 29/300\n",
      "44/44 [==============================] - 0s 709us/step - loss: 0.0000e+00 - accuracy: 0.1826\n",
      "Epoch 30/300\n",
      "44/44 [==============================] - 0s 845us/step - loss: 0.0000e+00 - accuracy: 0.1994\n",
      "Epoch 31/300\n",
      "44/44 [==============================] - 0s 767us/step - loss: 0.0000e+00 - accuracy: 0.1989\n",
      "Epoch 32/300\n",
      "44/44 [==============================] - 0s 798us/step - loss: 0.0000e+00 - accuracy: 0.1941\n",
      "Epoch 33/300\n",
      "44/44 [==============================] - 0s 738us/step - loss: 0.0000e+00 - accuracy: 0.2081\n",
      "Epoch 34/300\n",
      "44/44 [==============================] - 0s 751us/step - loss: 0.0000e+00 - accuracy: 0.2132\n",
      "Epoch 35/300\n",
      "44/44 [==============================] - 0s 721us/step - loss: 0.0000e+00 - accuracy: 0.1832\n",
      "Epoch 36/300\n",
      "44/44 [==============================] - 0s 751us/step - loss: 0.0000e+00 - accuracy: 0.1952\n",
      "Epoch 37/300\n",
      "44/44 [==============================] - 0s 758us/step - loss: 0.0000e+00 - accuracy: 0.1916\n",
      "Epoch 38/300\n",
      "44/44 [==============================] - 0s 851us/step - loss: 0.0000e+00 - accuracy: 0.1905\n",
      "Epoch 39/300\n",
      "44/44 [==============================] - 0s 772us/step - loss: 0.0000e+00 - accuracy: 0.1926\n",
      "Epoch 40/300\n",
      "44/44 [==============================] - 0s 809us/step - loss: 0.0000e+00 - accuracy: 0.1934\n",
      "Epoch 41/300\n",
      "44/44 [==============================] - 0s 956us/step - loss: 0.0000e+00 - accuracy: 0.1779\n",
      "Epoch 42/300\n",
      "44/44 [==============================] - 0s 734us/step - loss: 0.0000e+00 - accuracy: 0.2055\n",
      "Epoch 43/300\n",
      "44/44 [==============================] - 0s 767us/step - loss: 0.0000e+00 - accuracy: 0.1876\n",
      "Epoch 44/300\n",
      "44/44 [==============================] - 0s 724us/step - loss: 0.0000e+00 - accuracy: 0.1847\n",
      "Epoch 45/300\n",
      "44/44 [==============================] - 0s 772us/step - loss: 0.0000e+00 - accuracy: 0.2152\n",
      "Epoch 46/300\n",
      "44/44 [==============================] - 0s 699us/step - loss: 0.0000e+00 - accuracy: 0.1978\n",
      "Epoch 47/300\n",
      "44/44 [==============================] - 0s 786us/step - loss: 0.0000e+00 - accuracy: 0.1868\n",
      "Epoch 48/300\n",
      "44/44 [==============================] - 0s 749us/step - loss: 0.0000e+00 - accuracy: 0.1911\n",
      "Epoch 49/300\n",
      "44/44 [==============================] - 0s 776us/step - loss: 0.0000e+00 - accuracy: 0.2082\n",
      "Epoch 50/300\n",
      "44/44 [==============================] - 0s 720us/step - loss: 0.0000e+00 - accuracy: 0.1977\n",
      "Epoch 51/300\n",
      "44/44 [==============================] - 0s 711us/step - loss: 0.0000e+00 - accuracy: 0.1896\n",
      "Epoch 52/300\n",
      "44/44 [==============================] - 0s 790us/step - loss: 0.0000e+00 - accuracy: 0.1989\n",
      "Epoch 53/300\n",
      "44/44 [==============================] - 0s 750us/step - loss: 0.0000e+00 - accuracy: 0.1836\n",
      "Epoch 54/300\n",
      "44/44 [==============================] - 0s 745us/step - loss: 0.0000e+00 - accuracy: 0.1804\n",
      "Epoch 55/300\n",
      "44/44 [==============================] - 0s 751us/step - loss: 0.0000e+00 - accuracy: 0.1943\n",
      "Epoch 56/300\n",
      "44/44 [==============================] - 0s 746us/step - loss: 0.0000e+00 - accuracy: 0.1988\n",
      "Epoch 57/300\n",
      "44/44 [==============================] - 0s 775us/step - loss: 0.0000e+00 - accuracy: 0.1856\n",
      "Epoch 58/300\n",
      "44/44 [==============================] - 0s 753us/step - loss: 0.0000e+00 - accuracy: 0.2025\n",
      "Epoch 59/300\n",
      "44/44 [==============================] - 0s 817us/step - loss: 0.0000e+00 - accuracy: 0.1861\n",
      "Epoch 60/300\n",
      "44/44 [==============================] - 0s 723us/step - loss: 0.0000e+00 - accuracy: 0.1960\n",
      "Epoch 61/300\n",
      "44/44 [==============================] - 0s 706us/step - loss: 0.0000e+00 - accuracy: 0.1817\n",
      "Epoch 62/300\n",
      "44/44 [==============================] - 0s 740us/step - loss: 0.0000e+00 - accuracy: 0.1861\n",
      "Epoch 63/300\n",
      "44/44 [==============================] - 0s 696us/step - loss: 0.0000e+00 - accuracy: 0.2090\n",
      "Epoch 64/300\n",
      "44/44 [==============================] - 0s 711us/step - loss: 0.0000e+00 - accuracy: 0.2004\n",
      "Epoch 65/300\n",
      "44/44 [==============================] - 0s 688us/step - loss: 0.0000e+00 - accuracy: 0.1809\n",
      "Epoch 66/300\n",
      "44/44 [==============================] - 0s 733us/step - loss: 0.0000e+00 - accuracy: 0.2141\n",
      "Epoch 67/300\n",
      "44/44 [==============================] - 0s 755us/step - loss: 0.0000e+00 - accuracy: 0.1827\n",
      "Epoch 68/300\n",
      "44/44 [==============================] - 0s 761us/step - loss: 0.0000e+00 - accuracy: 0.1879\n",
      "Epoch 69/300\n",
      "44/44 [==============================] - 0s 733us/step - loss: 0.0000e+00 - accuracy: 0.1822\n",
      "Epoch 70/300\n",
      "44/44 [==============================] - 0s 686us/step - loss: 0.0000e+00 - accuracy: 0.2049\n",
      "Epoch 71/300\n",
      "44/44 [==============================] - 0s 701us/step - loss: 0.0000e+00 - accuracy: 0.1932\n",
      "Epoch 72/300\n",
      "44/44 [==============================] - 0s 778us/step - loss: 0.0000e+00 - accuracy: 0.2034\n",
      "Epoch 73/300\n",
      "44/44 [==============================] - 0s 728us/step - loss: 0.0000e+00 - accuracy: 0.2013\n",
      "Epoch 74/300\n",
      "44/44 [==============================] - 0s 739us/step - loss: 0.0000e+00 - accuracy: 0.2043\n",
      "Epoch 75/300\n",
      "44/44 [==============================] - 0s 768us/step - loss: 0.0000e+00 - accuracy: 0.2008\n",
      "Epoch 76/300\n",
      "44/44 [==============================] - 0s 738us/step - loss: 0.0000e+00 - accuracy: 0.2006\n",
      "Epoch 77/300\n",
      "44/44 [==============================] - 0s 716us/step - loss: 0.0000e+00 - accuracy: 0.1790\n",
      "Epoch 78/300\n",
      "44/44 [==============================] - 0s 748us/step - loss: 0.0000e+00 - accuracy: 0.1881\n",
      "Epoch 79/300\n",
      "44/44 [==============================] - 0s 676us/step - loss: 0.0000e+00 - accuracy: 0.1806\n",
      "Epoch 80/300\n",
      "44/44 [==============================] - 0s 709us/step - loss: 0.0000e+00 - accuracy: 0.1773\n",
      "Epoch 81/300\n",
      "44/44 [==============================] - 0s 666us/step - loss: 0.0000e+00 - accuracy: 0.1767\n",
      "Epoch 82/300\n",
      "44/44 [==============================] - 0s 671us/step - loss: 0.0000e+00 - accuracy: 0.1967\n",
      "Epoch 83/300\n",
      "44/44 [==============================] - 0s 706us/step - loss: 0.0000e+00 - accuracy: 0.1989\n",
      "Epoch 84/300\n",
      "44/44 [==============================] - 0s 720us/step - loss: 0.0000e+00 - accuracy: 0.1926\n",
      "Epoch 85/300\n",
      "44/44 [==============================] - 0s 730us/step - loss: 0.0000e+00 - accuracy: 0.1825\n",
      "Epoch 86/300\n",
      "44/44 [==============================] - 0s 714us/step - loss: 0.0000e+00 - accuracy: 0.1883\n",
      "Epoch 87/300\n",
      "44/44 [==============================] - 0s 742us/step - loss: 0.0000e+00 - accuracy: 0.1821\n",
      "Epoch 88/300\n",
      "44/44 [==============================] - 0s 733us/step - loss: 0.0000e+00 - accuracy: 0.2077\n",
      "Epoch 89/300\n",
      "44/44 [==============================] - 0s 720us/step - loss: 0.0000e+00 - accuracy: 0.2001\n",
      "Epoch 90/300\n",
      "44/44 [==============================] - 0s 717us/step - loss: 0.0000e+00 - accuracy: 0.2075\n",
      "Epoch 91/300\n",
      "44/44 [==============================] - 0s 725us/step - loss: 0.0000e+00 - accuracy: 0.1861\n",
      "Epoch 92/300\n",
      "44/44 [==============================] - 0s 723us/step - loss: 0.0000e+00 - accuracy: 0.2085\n",
      "Epoch 93/300\n",
      "44/44 [==============================] - 0s 755us/step - loss: 0.0000e+00 - accuracy: 0.1924\n",
      "Epoch 94/300\n",
      "44/44 [==============================] - 0s 701us/step - loss: 0.0000e+00 - accuracy: 0.1913\n",
      "Epoch 95/300\n",
      "44/44 [==============================] - 0s 743us/step - loss: 0.0000e+00 - accuracy: 0.1860\n",
      "Epoch 96/300\n",
      "44/44 [==============================] - 0s 716us/step - loss: 0.0000e+00 - accuracy: 0.1950\n",
      "Epoch 97/300\n",
      "44/44 [==============================] - 0s 726us/step - loss: 0.0000e+00 - accuracy: 0.1983\n",
      "Epoch 98/300\n",
      "44/44 [==============================] - 0s 702us/step - loss: 0.0000e+00 - accuracy: 0.1870\n",
      "Epoch 99/300\n",
      "44/44 [==============================] - 0s 755us/step - loss: 0.0000e+00 - accuracy: 0.1911\n",
      "Epoch 100/300\n",
      "44/44 [==============================] - 0s 729us/step - loss: 0.0000e+00 - accuracy: 0.1908\n",
      "Epoch 101/300\n",
      "44/44 [==============================] - 0s 755us/step - loss: 0.0000e+00 - accuracy: 0.2058\n",
      "Epoch 102/300\n",
      "44/44 [==============================] - 0s 704us/step - loss: 0.0000e+00 - accuracy: 0.1821\n",
      "Epoch 103/300\n",
      "44/44 [==============================] - 0s 706us/step - loss: 0.0000e+00 - accuracy: 0.2016\n",
      "Epoch 104/300\n",
      "44/44 [==============================] - 0s 708us/step - loss: 0.0000e+00 - accuracy: 0.1911\n",
      "Epoch 105/300\n",
      "44/44 [==============================] - 0s 725us/step - loss: 0.0000e+00 - accuracy: 0.1960\n",
      "Epoch 106/300\n",
      "44/44 [==============================] - 0s 725us/step - loss: 0.0000e+00 - accuracy: 0.2175\n",
      "Epoch 107/300\n",
      "44/44 [==============================] - 0s 748us/step - loss: 0.0000e+00 - accuracy: 0.1911\n",
      "Epoch 108/300\n",
      "44/44 [==============================] - 0s 702us/step - loss: 0.0000e+00 - accuracy: 0.1917\n",
      "Epoch 109/300\n",
      "44/44 [==============================] - 0s 744us/step - loss: 0.0000e+00 - accuracy: 0.1906\n",
      "Epoch 110/300\n",
      "44/44 [==============================] - 0s 703us/step - loss: 0.0000e+00 - accuracy: 0.2114\n",
      "Epoch 111/300\n",
      "44/44 [==============================] - 0s 728us/step - loss: 0.0000e+00 - accuracy: 0.1889\n",
      "Epoch 112/300\n",
      "44/44 [==============================] - 0s 710us/step - loss: 0.0000e+00 - accuracy: 0.1819\n",
      "Epoch 113/300\n",
      "44/44 [==============================] - 0s 701us/step - loss: 0.0000e+00 - accuracy: 0.1993\n",
      "Epoch 114/300\n",
      "44/44 [==============================] - 0s 750us/step - loss: 0.0000e+00 - accuracy: 0.1816\n",
      "Epoch 115/300\n",
      "44/44 [==============================] - 0s 682us/step - loss: 0.0000e+00 - accuracy: 0.1833\n",
      "Epoch 116/300\n",
      "44/44 [==============================] - 0s 768us/step - loss: 0.0000e+00 - accuracy: 0.1874\n",
      "Epoch 117/300\n",
      "44/44 [==============================] - 0s 692us/step - loss: 0.0000e+00 - accuracy: 0.1960\n",
      "Epoch 118/300\n",
      "44/44 [==============================] - 0s 756us/step - loss: 0.0000e+00 - accuracy: 0.1947\n",
      "Epoch 119/300\n",
      "44/44 [==============================] - 0s 696us/step - loss: 0.0000e+00 - accuracy: 0.1841\n",
      "Epoch 120/300\n",
      "44/44 [==============================] - 0s 728us/step - loss: 0.0000e+00 - accuracy: 0.1906\n",
      "Epoch 121/300\n",
      "44/44 [==============================] - 0s 706us/step - loss: 0.0000e+00 - accuracy: 0.1789\n",
      "Epoch 122/300\n",
      "44/44 [==============================] - 0s 793us/step - loss: 0.0000e+00 - accuracy: 0.1668\n",
      "Epoch 123/300\n",
      "44/44 [==============================] - 0s 707us/step - loss: 0.0000e+00 - accuracy: 0.2003\n",
      "Epoch 124/300\n",
      "44/44 [==============================] - 0s 739us/step - loss: 0.0000e+00 - accuracy: 0.1914\n",
      "Epoch 125/300\n",
      "44/44 [==============================] - 0s 713us/step - loss: 0.0000e+00 - accuracy: 0.1853\n",
      "Epoch 126/300\n",
      "44/44 [==============================] - 0s 746us/step - loss: 0.0000e+00 - accuracy: 0.1886\n",
      "Epoch 127/300\n",
      "44/44 [==============================] - 0s 713us/step - loss: 0.0000e+00 - accuracy: 0.2033\n",
      "Epoch 128/300\n",
      "44/44 [==============================] - 0s 714us/step - loss: 0.0000e+00 - accuracy: 0.2104\n",
      "Epoch 129/300\n",
      "44/44 [==============================] - 0s 712us/step - loss: 0.0000e+00 - accuracy: 0.1954\n",
      "Epoch 130/300\n",
      "44/44 [==============================] - 0s 720us/step - loss: 0.0000e+00 - accuracy: 0.1938\n",
      "Epoch 131/300\n",
      "44/44 [==============================] - 0s 712us/step - loss: 0.0000e+00 - accuracy: 0.1751\n",
      "Epoch 132/300\n",
      "44/44 [==============================] - 0s 757us/step - loss: 0.0000e+00 - accuracy: 0.2080\n",
      "Epoch 133/300\n",
      "44/44 [==============================] - 0s 717us/step - loss: 0.0000e+00 - accuracy: 0.2069\n",
      "Epoch 134/300\n",
      "44/44 [==============================] - 0s 704us/step - loss: 0.0000e+00 - accuracy: 0.1775\n",
      "Epoch 135/300\n",
      "44/44 [==============================] - 0s 776us/step - loss: 0.0000e+00 - accuracy: 0.1856\n",
      "Epoch 136/300\n",
      "44/44 [==============================] - 0s 687us/step - loss: 0.0000e+00 - accuracy: 0.1938\n",
      "Epoch 137/300\n",
      "44/44 [==============================] - 0s 763us/step - loss: 0.0000e+00 - accuracy: 0.2053\n",
      "Epoch 138/300\n",
      "44/44 [==============================] - 0s 706us/step - loss: 0.0000e+00 - accuracy: 0.2021\n",
      "Epoch 139/300\n",
      "44/44 [==============================] - 0s 737us/step - loss: 0.0000e+00 - accuracy: 0.2114\n",
      "Epoch 140/300\n",
      "44/44 [==============================] - 0s 729us/step - loss: 0.0000e+00 - accuracy: 0.1704\n",
      "Epoch 141/300\n",
      "44/44 [==============================] - 0s 724us/step - loss: 0.0000e+00 - accuracy: 0.2003\n",
      "Epoch 142/300\n",
      "44/44 [==============================] - 0s 682us/step - loss: 0.0000e+00 - accuracy: 0.1913\n",
      "Epoch 143/300\n",
      "44/44 [==============================] - 0s 780us/step - loss: 0.0000e+00 - accuracy: 0.2027\n",
      "Epoch 144/300\n",
      "44/44 [==============================] - 0s 708us/step - loss: 0.0000e+00 - accuracy: 0.1905\n",
      "Epoch 145/300\n",
      "44/44 [==============================] - 0s 726us/step - loss: 0.0000e+00 - accuracy: 0.2041\n",
      "Epoch 146/300\n",
      "44/44 [==============================] - 0s 696us/step - loss: 0.0000e+00 - accuracy: 0.2026\n",
      "Epoch 147/300\n",
      "44/44 [==============================] - 0s 735us/step - loss: 0.0000e+00 - accuracy: 0.1896\n",
      "Epoch 148/300\n",
      "44/44 [==============================] - 0s 753us/step - loss: 0.0000e+00 - accuracy: 0.1857\n",
      "Epoch 149/300\n",
      "44/44 [==============================] - 0s 830us/step - loss: 0.0000e+00 - accuracy: 0.1851\n",
      "Epoch 150/300\n",
      "44/44 [==============================] - 0s 768us/step - loss: 0.0000e+00 - accuracy: 0.1995\n",
      "Epoch 151/300\n",
      "44/44 [==============================] - 0s 968us/step - loss: 0.0000e+00 - accuracy: 0.1904\n",
      "Epoch 152/300\n",
      "44/44 [==============================] - 0s 811us/step - loss: 0.0000e+00 - accuracy: 0.1937\n",
      "Epoch 153/300\n",
      "44/44 [==============================] - 0s 752us/step - loss: 0.0000e+00 - accuracy: 0.1974\n",
      "Epoch 154/300\n",
      "44/44 [==============================] - 0s 759us/step - loss: 0.0000e+00 - accuracy: 0.1887\n",
      "Epoch 155/300\n",
      "44/44 [==============================] - 0s 818us/step - loss: 0.0000e+00 - accuracy: 0.1992\n",
      "Epoch 156/300\n",
      "44/44 [==============================] - 0s 750us/step - loss: 0.0000e+00 - accuracy: 0.1829\n",
      "Epoch 157/300\n",
      "44/44 [==============================] - 0s 757us/step - loss: 0.0000e+00 - accuracy: 0.1994\n",
      "Epoch 158/300\n",
      "44/44 [==============================] - 0s 751us/step - loss: 0.0000e+00 - accuracy: 0.1988\n",
      "Epoch 159/300\n",
      "44/44 [==============================] - 0s 781us/step - loss: 0.0000e+00 - accuracy: 0.2092\n",
      "Epoch 160/300\n",
      "44/44 [==============================] - 0s 787us/step - loss: 0.0000e+00 - accuracy: 0.1980\n",
      "Epoch 161/300\n",
      "44/44 [==============================] - 0s 740us/step - loss: 0.0000e+00 - accuracy: 0.2000\n",
      "Epoch 162/300\n",
      "44/44 [==============================] - 0s 724us/step - loss: 0.0000e+00 - accuracy: 0.1932\n",
      "Epoch 163/300\n",
      "44/44 [==============================] - 0s 722us/step - loss: 0.0000e+00 - accuracy: 0.2012\n",
      "Epoch 164/300\n",
      "44/44 [==============================] - 0s 693us/step - loss: 0.0000e+00 - accuracy: 0.2030\n",
      "Epoch 165/300\n",
      "44/44 [==============================] - 0s 784us/step - loss: 0.0000e+00 - accuracy: 0.1945\n",
      "Epoch 166/300\n",
      "44/44 [==============================] - 0s 743us/step - loss: 0.0000e+00 - accuracy: 0.1874\n",
      "Epoch 167/300\n",
      "44/44 [==============================] - 0s 794us/step - loss: 0.0000e+00 - accuracy: 0.1958\n",
      "Epoch 168/300\n",
      "44/44 [==============================] - 0s 711us/step - loss: 0.0000e+00 - accuracy: 0.1990\n",
      "Epoch 169/300\n",
      "44/44 [==============================] - 0s 788us/step - loss: 0.0000e+00 - accuracy: 0.2125\n",
      "Epoch 170/300\n",
      "44/44 [==============================] - 0s 725us/step - loss: 0.0000e+00 - accuracy: 0.1940\n",
      "Epoch 171/300\n",
      "44/44 [==============================] - 0s 777us/step - loss: 0.0000e+00 - accuracy: 0.2200\n",
      "Epoch 172/300\n",
      "44/44 [==============================] - 0s 762us/step - loss: 0.0000e+00 - accuracy: 0.2021\n",
      "Epoch 173/300\n",
      "44/44 [==============================] - 0s 785us/step - loss: 0.0000e+00 - accuracy: 0.1946\n",
      "Epoch 174/300\n",
      "44/44 [==============================] - 0s 742us/step - loss: 0.0000e+00 - accuracy: 0.1921\n",
      "Epoch 175/300\n",
      "44/44 [==============================] - 0s 757us/step - loss: 0.0000e+00 - accuracy: 0.1953\n",
      "Epoch 176/300\n",
      "44/44 [==============================] - 0s 714us/step - loss: 0.0000e+00 - accuracy: 0.1896\n",
      "Epoch 177/300\n",
      "44/44 [==============================] - 0s 786us/step - loss: 0.0000e+00 - accuracy: 0.1866\n",
      "Epoch 178/300\n",
      "44/44 [==============================] - 0s 721us/step - loss: 0.0000e+00 - accuracy: 0.1998\n",
      "Epoch 179/300\n",
      "44/44 [==============================] - 0s 783us/step - loss: 0.0000e+00 - accuracy: 0.1783\n",
      "Epoch 180/300\n",
      "44/44 [==============================] - 0s 886us/step - loss: 0.0000e+00 - accuracy: 0.1774\n",
      "Epoch 181/300\n",
      "44/44 [==============================] - 0s 783us/step - loss: 0.0000e+00 - accuracy: 0.1893\n",
      "Epoch 182/300\n",
      "44/44 [==============================] - 0s 804us/step - loss: 0.0000e+00 - accuracy: 0.1770\n",
      "Epoch 183/300\n",
      "44/44 [==============================] - 0s 817us/step - loss: 0.0000e+00 - accuracy: 0.2021\n",
      "Epoch 184/300\n",
      "44/44 [==============================] - 0s 754us/step - loss: 0.0000e+00 - accuracy: 0.1925\n",
      "Epoch 185/300\n",
      "44/44 [==============================] - 0s 796us/step - loss: 0.0000e+00 - accuracy: 0.1764\n",
      "Epoch 186/300\n",
      "44/44 [==============================] - 0s 796us/step - loss: 0.0000e+00 - accuracy: 0.1938\n",
      "Epoch 187/300\n",
      "44/44 [==============================] - 0s 796us/step - loss: 0.0000e+00 - accuracy: 0.1919\n",
      "Epoch 188/300\n",
      "44/44 [==============================] - 0s 799us/step - loss: 0.0000e+00 - accuracy: 0.1899\n",
      "Epoch 189/300\n",
      "44/44 [==============================] - 0s 742us/step - loss: 0.0000e+00 - accuracy: 0.1845\n",
      "Epoch 190/300\n",
      "44/44 [==============================] - 0s 792us/step - loss: 0.0000e+00 - accuracy: 0.2003\n",
      "Epoch 191/300\n",
      "44/44 [==============================] - 0s 764us/step - loss: 0.0000e+00 - accuracy: 0.1924\n",
      "Epoch 192/300\n",
      "44/44 [==============================] - 0s 783us/step - loss: 0.0000e+00 - accuracy: 0.1905\n",
      "Epoch 193/300\n",
      "44/44 [==============================] - 0s 671us/step - loss: 0.0000e+00 - accuracy: 0.1874\n",
      "Epoch 194/300\n",
      "44/44 [==============================] - 0s 737us/step - loss: 0.0000e+00 - accuracy: 0.2018\n",
      "Epoch 195/300\n",
      "44/44 [==============================] - 0s 718us/step - loss: 0.0000e+00 - accuracy: 0.1902\n",
      "Epoch 196/300\n",
      "44/44 [==============================] - 0s 724us/step - loss: 0.0000e+00 - accuracy: 0.1909\n",
      "Epoch 197/300\n",
      "44/44 [==============================] - 0s 710us/step - loss: 0.0000e+00 - accuracy: 0.1850\n",
      "Epoch 198/300\n",
      "44/44 [==============================] - 0s 695us/step - loss: 0.0000e+00 - accuracy: 0.1998\n",
      "Epoch 199/300\n",
      "44/44 [==============================] - 0s 706us/step - loss: 0.0000e+00 - accuracy: 0.1954\n",
      "Epoch 200/300\n",
      "44/44 [==============================] - 0s 685us/step - loss: 0.0000e+00 - accuracy: 0.2053\n",
      "Epoch 201/300\n",
      "44/44 [==============================] - 0s 699us/step - loss: 0.0000e+00 - accuracy: 0.2018\n",
      "Epoch 202/300\n",
      "44/44 [==============================] - 0s 674us/step - loss: 0.0000e+00 - accuracy: 0.1891\n",
      "Epoch 203/300\n",
      "44/44 [==============================] - 0s 723us/step - loss: 0.0000e+00 - accuracy: 0.1961\n",
      "Epoch 204/300\n",
      "44/44 [==============================] - 0s 689us/step - loss: 0.0000e+00 - accuracy: 0.1886\n",
      "Epoch 205/300\n",
      "44/44 [==============================] - 0s 708us/step - loss: 0.0000e+00 - accuracy: 0.1820\n",
      "Epoch 206/300\n",
      "44/44 [==============================] - 0s 698us/step - loss: 0.0000e+00 - accuracy: 0.1981\n",
      "Epoch 207/300\n",
      "44/44 [==============================] - 0s 694us/step - loss: 0.0000e+00 - accuracy: 0.2036\n",
      "Epoch 208/300\n",
      "44/44 [==============================] - 0s 691us/step - loss: 0.0000e+00 - accuracy: 0.1935\n",
      "Epoch 209/300\n",
      "44/44 [==============================] - 0s 723us/step - loss: 0.0000e+00 - accuracy: 0.1782\n",
      "Epoch 210/300\n",
      "44/44 [==============================] - 0s 729us/step - loss: 0.0000e+00 - accuracy: 0.2098\n",
      "Epoch 211/300\n",
      "44/44 [==============================] - 0s 692us/step - loss: 0.0000e+00 - accuracy: 0.2173\n",
      "Epoch 212/300\n",
      "44/44 [==============================] - 0s 706us/step - loss: 0.0000e+00 - accuracy: 0.2075\n",
      "Epoch 213/300\n",
      "44/44 [==============================] - 0s 725us/step - loss: 0.0000e+00 - accuracy: 0.2031\n",
      "Epoch 214/300\n",
      "44/44 [==============================] - 0s 789us/step - loss: 0.0000e+00 - accuracy: 0.1801\n",
      "Epoch 215/300\n",
      "44/44 [==============================] - 0s 684us/step - loss: 0.0000e+00 - accuracy: 0.1930\n",
      "Epoch 216/300\n",
      "44/44 [==============================] - 0s 736us/step - loss: 0.0000e+00 - accuracy: 0.2008\n",
      "Epoch 217/300\n",
      "44/44 [==============================] - 0s 696us/step - loss: 0.0000e+00 - accuracy: 0.2005\n",
      "Epoch 218/300\n",
      "44/44 [==============================] - 0s 727us/step - loss: 0.0000e+00 - accuracy: 0.1759\n",
      "Epoch 219/300\n",
      "44/44 [==============================] - 0s 697us/step - loss: 0.0000e+00 - accuracy: 0.1819\n",
      "Epoch 220/300\n",
      "44/44 [==============================] - 0s 753us/step - loss: 0.0000e+00 - accuracy: 0.1928\n",
      "Epoch 221/300\n",
      "44/44 [==============================] - 0s 695us/step - loss: 0.0000e+00 - accuracy: 0.2189\n",
      "Epoch 222/300\n",
      "44/44 [==============================] - 0s 709us/step - loss: 0.0000e+00 - accuracy: 0.1911\n",
      "Epoch 223/300\n",
      "44/44 [==============================] - 0s 712us/step - loss: 0.0000e+00 - accuracy: 0.1925\n",
      "Epoch 224/300\n",
      "44/44 [==============================] - 0s 733us/step - loss: 0.0000e+00 - accuracy: 0.1850\n",
      "Epoch 225/300\n",
      "44/44 [==============================] - 0s 715us/step - loss: 0.0000e+00 - accuracy: 0.2104\n",
      "Epoch 226/300\n",
      "44/44 [==============================] - 0s 744us/step - loss: 0.0000e+00 - accuracy: 0.1961\n",
      "Epoch 227/300\n",
      "44/44 [==============================] - 0s 662us/step - loss: 0.0000e+00 - accuracy: 0.1707\n",
      "Epoch 228/300\n",
      "44/44 [==============================] - 0s 731us/step - loss: 0.0000e+00 - accuracy: 0.2072\n",
      "Epoch 229/300\n",
      "44/44 [==============================] - 0s 708us/step - loss: 0.0000e+00 - accuracy: 0.2066\n",
      "Epoch 230/300\n",
      "44/44 [==============================] - 0s 727us/step - loss: 0.0000e+00 - accuracy: 0.2055\n",
      "Epoch 231/300\n",
      "44/44 [==============================] - 0s 747us/step - loss: 0.0000e+00 - accuracy: 0.1972\n",
      "Epoch 232/300\n",
      "44/44 [==============================] - 0s 715us/step - loss: 0.0000e+00 - accuracy: 0.1943\n",
      "Epoch 233/300\n",
      "44/44 [==============================] - 0s 678us/step - loss: 0.0000e+00 - accuracy: 0.2096\n",
      "Epoch 234/300\n",
      "44/44 [==============================] - 0s 756us/step - loss: 0.0000e+00 - accuracy: 0.1912\n",
      "Epoch 235/300\n",
      "44/44 [==============================] - 0s 637us/step - loss: 0.0000e+00 - accuracy: 0.1819\n",
      "Epoch 236/300\n",
      "44/44 [==============================] - 0s 698us/step - loss: 0.0000e+00 - accuracy: 0.1845\n",
      "Epoch 237/300\n",
      "44/44 [==============================] - 0s 739us/step - loss: 0.0000e+00 - accuracy: 0.1966\n",
      "Epoch 238/300\n",
      "44/44 [==============================] - 0s 685us/step - loss: 0.0000e+00 - accuracy: 0.1939\n",
      "Epoch 239/300\n",
      "44/44 [==============================] - 0s 739us/step - loss: 0.0000e+00 - accuracy: 0.2124\n",
      "Epoch 240/300\n",
      "44/44 [==============================] - 0s 711us/step - loss: 0.0000e+00 - accuracy: 0.1830\n",
      "Epoch 241/300\n",
      "44/44 [==============================] - 0s 731us/step - loss: 0.0000e+00 - accuracy: 0.2035\n",
      "Epoch 242/300\n",
      "44/44 [==============================] - 0s 690us/step - loss: 0.0000e+00 - accuracy: 0.2007\n",
      "Epoch 243/300\n",
      "44/44 [==============================] - 0s 749us/step - loss: 0.0000e+00 - accuracy: 0.2095\n",
      "Epoch 244/300\n",
      "44/44 [==============================] - 0s 689us/step - loss: 0.0000e+00 - accuracy: 0.1983\n",
      "Epoch 245/300\n",
      "44/44 [==============================] - 0s 743us/step - loss: 0.0000e+00 - accuracy: 0.1910\n",
      "Epoch 246/300\n",
      "44/44 [==============================] - 0s 718us/step - loss: 0.0000e+00 - accuracy: 0.1996\n",
      "Epoch 247/300\n",
      "44/44 [==============================] - 0s 714us/step - loss: 0.0000e+00 - accuracy: 0.1931\n",
      "Epoch 248/300\n",
      "44/44 [==============================] - 0s 722us/step - loss: 0.0000e+00 - accuracy: 0.1725\n",
      "Epoch 249/300\n",
      "44/44 [==============================] - 0s 718us/step - loss: 0.0000e+00 - accuracy: 0.2041\n",
      "Epoch 250/300\n",
      "44/44 [==============================] - 0s 711us/step - loss: 0.0000e+00 - accuracy: 0.2079\n",
      "Epoch 251/300\n",
      "44/44 [==============================] - 0s 708us/step - loss: 0.0000e+00 - accuracy: 0.1851\n",
      "Epoch 252/300\n",
      "44/44 [==============================] - 0s 719us/step - loss: 0.0000e+00 - accuracy: 0.1853\n",
      "Epoch 253/300\n",
      "44/44 [==============================] - 0s 724us/step - loss: 0.0000e+00 - accuracy: 0.1883\n",
      "Epoch 254/300\n",
      "44/44 [==============================] - 0s 720us/step - loss: 0.0000e+00 - accuracy: 0.1977\n",
      "Epoch 255/300\n",
      "44/44 [==============================] - 0s 735us/step - loss: 0.0000e+00 - accuracy: 0.1845\n",
      "Epoch 256/300\n",
      "44/44 [==============================] - 0s 729us/step - loss: 0.0000e+00 - accuracy: 0.2041\n",
      "Epoch 257/300\n",
      "44/44 [==============================] - 0s 697us/step - loss: 0.0000e+00 - accuracy: 0.1845\n",
      "Epoch 258/300\n",
      "44/44 [==============================] - 0s 747us/step - loss: 0.0000e+00 - accuracy: 0.1686\n",
      "Epoch 259/300\n",
      "44/44 [==============================] - 0s 690us/step - loss: 0.0000e+00 - accuracy: 0.1823\n",
      "Epoch 260/300\n",
      "44/44 [==============================] - 0s 744us/step - loss: 0.0000e+00 - accuracy: 0.1908\n",
      "Epoch 261/300\n",
      "44/44 [==============================] - 0s 699us/step - loss: 0.0000e+00 - accuracy: 0.1842\n",
      "Epoch 262/300\n",
      "44/44 [==============================] - 0s 770us/step - loss: 0.0000e+00 - accuracy: 0.1820\n",
      "Epoch 263/300\n",
      "44/44 [==============================] - 0s 707us/step - loss: 0.0000e+00 - accuracy: 0.2035\n",
      "Epoch 264/300\n",
      "44/44 [==============================] - 0s 743us/step - loss: 0.0000e+00 - accuracy: 0.1868\n",
      "Epoch 265/300\n",
      "44/44 [==============================] - 0s 736us/step - loss: 0.0000e+00 - accuracy: 0.2056\n",
      "Epoch 266/300\n",
      "44/44 [==============================] - 0s 724us/step - loss: 0.0000e+00 - accuracy: 0.1930\n",
      "Epoch 267/300\n",
      "44/44 [==============================] - 0s 701us/step - loss: 0.0000e+00 - accuracy: 0.1972\n",
      "Epoch 268/300\n",
      "44/44 [==============================] - 0s 713us/step - loss: 0.0000e+00 - accuracy: 0.2057\n",
      "Epoch 269/300\n",
      "44/44 [==============================] - 0s 725us/step - loss: 0.0000e+00 - accuracy: 0.1952\n",
      "Epoch 270/300\n",
      "44/44 [==============================] - 0s 736us/step - loss: 0.0000e+00 - accuracy: 0.2026\n",
      "Epoch 271/300\n",
      "44/44 [==============================] - 0s 725us/step - loss: 0.0000e+00 - accuracy: 0.1873\n",
      "Epoch 272/300\n",
      "44/44 [==============================] - 0s 717us/step - loss: 0.0000e+00 - accuracy: 0.1916\n",
      "Epoch 273/300\n",
      "44/44 [==============================] - 0s 721us/step - loss: 0.0000e+00 - accuracy: 0.2035\n",
      "Epoch 274/300\n",
      "44/44 [==============================] - 0s 743us/step - loss: 0.0000e+00 - accuracy: 0.2016\n",
      "Epoch 275/300\n",
      "44/44 [==============================] - 0s 712us/step - loss: 0.0000e+00 - accuracy: 0.1879\n",
      "Epoch 276/300\n",
      "44/44 [==============================] - 0s 742us/step - loss: 0.0000e+00 - accuracy: 0.1967\n",
      "Epoch 277/300\n",
      "44/44 [==============================] - 0s 709us/step - loss: 0.0000e+00 - accuracy: 0.1945\n",
      "Epoch 278/300\n",
      "44/44 [==============================] - 0s 702us/step - loss: 0.0000e+00 - accuracy: 0.2063\n",
      "Epoch 279/300\n",
      "44/44 [==============================] - 0s 757us/step - loss: 0.0000e+00 - accuracy: 0.1971\n",
      "Epoch 280/300\n",
      "44/44 [==============================] - 0s 697us/step - loss: 0.0000e+00 - accuracy: 0.1912\n",
      "Epoch 281/300\n",
      "44/44 [==============================] - 0s 743us/step - loss: 0.0000e+00 - accuracy: 0.2117\n",
      "Epoch 282/300\n",
      "44/44 [==============================] - 0s 709us/step - loss: 0.0000e+00 - accuracy: 0.1807\n",
      "Epoch 283/300\n",
      "44/44 [==============================] - 0s 752us/step - loss: 0.0000e+00 - accuracy: 0.1900\n",
      "Epoch 284/300\n",
      "44/44 [==============================] - 0s 682us/step - loss: 0.0000e+00 - accuracy: 0.1809\n",
      "Epoch 285/300\n",
      "44/44 [==============================] - 0s 754us/step - loss: 0.0000e+00 - accuracy: 0.2019\n",
      "Epoch 286/300\n",
      "44/44 [==============================] - 0s 716us/step - loss: 0.0000e+00 - accuracy: 0.1919\n",
      "Epoch 287/300\n",
      "44/44 [==============================] - 0s 774us/step - loss: 0.0000e+00 - accuracy: 0.2003\n",
      "Epoch 288/300\n",
      "44/44 [==============================] - 0s 781us/step - loss: 0.0000e+00 - accuracy: 0.1998\n",
      "Epoch 289/300\n",
      "44/44 [==============================] - 0s 809us/step - loss: 0.0000e+00 - accuracy: 0.1918\n",
      "Epoch 290/300\n",
      "44/44 [==============================] - 0s 731us/step - loss: 0.0000e+00 - accuracy: 0.2007\n",
      "Epoch 291/300\n",
      "44/44 [==============================] - 0s 765us/step - loss: 0.0000e+00 - accuracy: 0.1908\n",
      "Epoch 292/300\n",
      "44/44 [==============================] - 0s 716us/step - loss: 0.0000e+00 - accuracy: 0.1995\n",
      "Epoch 293/300\n",
      "44/44 [==============================] - 0s 778us/step - loss: 0.0000e+00 - accuracy: 0.1993\n",
      "Epoch 294/300\n",
      "44/44 [==============================] - 0s 670us/step - loss: 0.0000e+00 - accuracy: 0.1841\n",
      "Epoch 295/300\n",
      "44/44 [==============================] - 0s 794us/step - loss: 0.0000e+00 - accuracy: 0.1877\n",
      "Epoch 296/300\n",
      "44/44 [==============================] - 0s 731us/step - loss: 0.0000e+00 - accuracy: 0.1786\n",
      "Epoch 297/300\n",
      "44/44 [==============================] - 0s 836us/step - loss: 0.0000e+00 - accuracy: 0.1865\n",
      "Epoch 298/300\n",
      "44/44 [==============================] - 0s 897us/step - loss: 0.0000e+00 - accuracy: 0.1882\n",
      "Epoch 299/300\n",
      "44/44 [==============================] - 0s 766us/step - loss: 0.0000e+00 - accuracy: 0.1928\n",
      "Epoch 300/300\n",
      "44/44 [==============================] - 0s 671us/step - loss: 0.0000e+00 - accuracy: 0.2044\n"
     ]
    },
    {
     "data": {
      "text/plain": [
       "<keras.callbacks.History at 0x7fd7df8a7ac0>"
      ]
     },
     "execution_count": 26,
     "metadata": {},
     "output_type": "execute_result"
    }
   ],
   "source": [
    "model.fit(X_train, y_train, epochs=300, batch_size =30)"
   ]
  },
  {
   "cell_type": "code",
   "execution_count": 27,
   "metadata": {},
   "outputs": [],
   "source": [
    "Y_pred_nn = model.predict(X_test)"
   ]
  },
  {
   "cell_type": "code",
   "execution_count": 28,
   "metadata": {},
   "outputs": [
    {
     "name": "stdout",
     "output_type": "stream",
     "text": [
      "              precision    recall  f1-score   support\n",
      "\n",
      "         0.0       0.00      0.00      0.00        98\n",
      "         1.0       0.23      1.00      0.38        76\n",
      "         2.0       0.00      0.00      0.00       137\n",
      "         3.0       0.00      0.00      0.00        16\n",
      "\n",
      "    accuracy                           0.23       327\n",
      "   macro avg       0.06      0.25      0.09       327\n",
      "weighted avg       0.05      0.23      0.09       327\n",
      "\n"
     ]
    },
    {
     "name": "stderr",
     "output_type": "stream",
     "text": [
      "/Library/Frameworks/Python.framework/Versions/3.9/lib/python3.9/site-packages/sklearn/metrics/_classification.py:1248: UndefinedMetricWarning: Precision and F-score are ill-defined and being set to 0.0 in labels with no predicted samples. Use `zero_division` parameter to control this behavior.\n",
      "  _warn_prf(average, modifier, msg_start, len(result))\n",
      "/Library/Frameworks/Python.framework/Versions/3.9/lib/python3.9/site-packages/sklearn/metrics/_classification.py:1248: UndefinedMetricWarning: Precision and F-score are ill-defined and being set to 0.0 in labels with no predicted samples. Use `zero_division` parameter to control this behavior.\n",
      "  _warn_prf(average, modifier, msg_start, len(result))\n",
      "/Library/Frameworks/Python.framework/Versions/3.9/lib/python3.9/site-packages/sklearn/metrics/_classification.py:1248: UndefinedMetricWarning: Precision and F-score are ill-defined and being set to 0.0 in labels with no predicted samples. Use `zero_division` parameter to control this behavior.\n",
      "  _warn_prf(average, modifier, msg_start, len(result))\n"
     ]
    }
   ],
   "source": [
    "print(classification_report(y_test, Y_pred_nn))"
   ]
  },
  {
   "cell_type": "code",
   "execution_count": 70,
   "metadata": {},
   "outputs": [
    {
     "name": "stdout",
     "output_type": "stream",
     "text": [
      "Accuracy of logistic regression classifier on test set: 0.56\n"
     ]
    },
    {
     "name": "stderr",
     "output_type": "stream",
     "text": [
      "/Library/Frameworks/Python.framework/Versions/3.9/lib/python3.9/site-packages/sklearn/linear_model/_logistic.py:763: ConvergenceWarning: lbfgs failed to converge (status=1):\n",
      "STOP: TOTAL NO. of ITERATIONS REACHED LIMIT.\n",
      "\n",
      "Increase the number of iterations (max_iter) or scale the data as shown in:\n",
      "    https://scikit-learn.org/stable/modules/preprocessing.html\n",
      "Please also refer to the documentation for alternative solver options:\n",
      "    https://scikit-learn.org/stable/modules/linear_model.html#logistic-regression\n",
      "  n_iter_i = _check_optimize_result(\n"
     ]
    }
   ],
   "source": [
    "from sklearn.linear_model import LogisticRegression\n",
    "logreg = LogisticRegression()\n",
    "logreg.fit(X_train, y_train)\n",
    "y_pred = logreg.predict(X_test)\n",
    "print('Accuracy of logistic regression classifier on test set: {:.2f}'.format(logreg.score(X_test, y_test)))"
   ]
  },
  {
   "cell_type": "code",
   "execution_count": 71,
   "metadata": {},
   "outputs": [
    {
     "name": "stdout",
     "output_type": "stream",
     "text": [
      "              precision    recall  f1-score   support\n",
      "\n",
      "        high       0.26      0.07      0.11        85\n",
      "         low       0.96      0.31      0.46        72\n",
      "      medium       0.55      0.94      0.69       163\n",
      "   very high       0.00      0.00      0.00         7\n",
      "\n",
      "    accuracy                           0.56       327\n",
      "   macro avg       0.44      0.33      0.32       327\n",
      "weighted avg       0.55      0.56      0.48       327\n",
      "\n"
     ]
    },
    {
     "name": "stderr",
     "output_type": "stream",
     "text": [
      "/Library/Frameworks/Python.framework/Versions/3.9/lib/python3.9/site-packages/sklearn/metrics/_classification.py:1248: UndefinedMetricWarning: Precision and F-score are ill-defined and being set to 0.0 in labels with no predicted samples. Use `zero_division` parameter to control this behavior.\n",
      "  _warn_prf(average, modifier, msg_start, len(result))\n",
      "/Library/Frameworks/Python.framework/Versions/3.9/lib/python3.9/site-packages/sklearn/metrics/_classification.py:1248: UndefinedMetricWarning: Precision and F-score are ill-defined and being set to 0.0 in labels with no predicted samples. Use `zero_division` parameter to control this behavior.\n",
      "  _warn_prf(average, modifier, msg_start, len(result))\n",
      "/Library/Frameworks/Python.framework/Versions/3.9/lib/python3.9/site-packages/sklearn/metrics/_classification.py:1248: UndefinedMetricWarning: Precision and F-score are ill-defined and being set to 0.0 in labels with no predicted samples. Use `zero_division` parameter to control this behavior.\n",
      "  _warn_prf(average, modifier, msg_start, len(result))\n"
     ]
    }
   ],
   "source": [
    "print(classification_report(y_test, y_pred))"
   ]
  },
  {
   "cell_type": "code",
   "execution_count": 17,
   "metadata": {},
   "outputs": [
    {
     "data": {
      "text/plain": [
       "<function matplotlib.pyplot.show(close=None, block=None)>"
      ]
     },
     "execution_count": 17,
     "metadata": {},
     "output_type": "execute_result"
    },
    {
     "data": {
      "image/png": "[encoded data removed]",
      "text/plain": [
       "<Figure size 432x288 with 1 Axes>"
      ]
     },
     "metadata": {
      "needs_background": "light"
     },
     "output_type": "display_data"
    }
   ],
   "source": [
    "#Nuh add in this one!!!!!!\n",
    "#This just maps all the crime to the prices\n",
    "plt.scatter(new_df['prices'], new_df['total crime'])\n",
    "plt.xlabel('Prices')\n",
    "plt.ylabel('All Crimes')\n",
    "plt.show"
   ]
  },
  {
   "cell_type": "code",
   "execution_count": 18,
   "metadata": {},
   "outputs": [
    {
     "data": {
      "text/plain": [
       "<function matplotlib.pyplot.show(close=None, block=None)>"
      ]
     },
     "execution_count": 18,
     "metadata": {},
     "output_type": "execute_result"
    },
    {
     "data": {
      "image/png": "[encoded data removed]",
      "text/plain": [
       "<Figure size 432x288 with 1 Axes>"
      ]
     },
     "metadata": {
      "needs_background": "light"
     },
     "output_type": "display_data"
    }
   ],
   "source": [
    "plt.scatter(new_df['prices'], new_df['total crime'])\n",
    "plt.xlabel('Prices')\n",
    "plt.ylabel('violent crime')\n",
    "plt.show"
   ]
  },
  {
   "cell_type": "code",
   "execution_count": 19,
   "metadata": {},
   "outputs": [
    {
     "data": {
      "text/plain": [
       "<function matplotlib.pyplot.show(close=None, block=None)>"
      ]
     },
     "execution_count": 19,
     "metadata": {},
     "output_type": "execute_result"
    },
    {
     "data": {
      "image/png": "[encoded data removed]",
      "text/plain": [
       "<Figure size 432x288 with 1 Axes>"
      ]
     },
     "metadata": {
      "needs_background": "light"
     },
     "output_type": "display_data"
    }
   ],
   "source": [
    "plt.scatter(new_df['prices'], new_df['total crime'])\n",
    "plt.xlabel('Prices')\n",
    "plt.ylabel('drug crime')\n",
    "plt.show"
   ]
  },
  {
   "cell_type": "code",
   "execution_count": 20,
   "metadata": {},
   "outputs": [
    {
     "data": {
      "text/plain": [
       "<function matplotlib.pyplot.show(close=None, block=None)>"
      ]
     },
     "execution_count": 20,
     "metadata": {},
     "output_type": "execute_result"
    },
    {
     "data": {
      "image/png": "[encoded data removed]",
      "text/plain": [
       "<Figure size 432x288 with 1 Axes>"
      ]
     },
     "metadata": {
      "needs_background": "light"
     },
     "output_type": "display_data"
    }
   ],
   "source": [
    "plt.scatter(new_df['prices'], new_df['total crime'])\n",
    "plt.xlabel('Prices')\n",
    "plt.ylabel('housing crime')\n",
    "plt.show"
   ]
  },
  {
   "cell_type": "code",
   "execution_count": 35,
   "metadata": {},
   "outputs": [
    {
     "data": {
      "text/html": [
       "<div>\n",
       "<style scoped>\n",
       "    .dataframe tbody tr th:only-of-type {\n",
       "        vertical-align: middle;\n",
       "    }\n",
       "\n",
       "    .dataframe tbody tr th {\n",
       "        vertical-align: top;\n",
       "    }\n",
       "\n",
       "    .dataframe thead th {\n",
       "        text-align: right;\n",
       "    }\n",
       "</style>\n",
       "<table border=\"1\" class=\"dataframe\">\n",
       "  <thead>\n",
       "    <tr style=\"text-align: right;\">\n",
       "      <th></th>\n",
       "      <th>Neighborhood</th>\n",
       "      <th>prices</th>\n",
       "      <th>year</th>\n",
       "      <th>month</th>\n",
       "      <th>total crime</th>\n",
       "      <th>violent crime</th>\n",
       "      <th>drug crime</th>\n",
       "      <th>housing crime</th>\n",
       "      <th>price classified</th>\n",
       "    </tr>\n",
       "  </thead>\n",
       "  <tbody>\n",
       "    <tr>\n",
       "      <th>0</th>\n",
       "      <td>Allston</td>\n",
       "      <td>419685.0</td>\n",
       "      <td>2015</td>\n",
       "      <td>6</td>\n",
       "      <td>121</td>\n",
       "      <td>18</td>\n",
       "      <td>5</td>\n",
       "      <td>13</td>\n",
       "      <td>low</td>\n",
       "    </tr>\n",
       "    <tr>\n",
       "      <th>1</th>\n",
       "      <td>Allston</td>\n",
       "      <td>425878.0</td>\n",
       "      <td>2015</td>\n",
       "      <td>7</td>\n",
       "      <td>203</td>\n",
       "      <td>29</td>\n",
       "      <td>3</td>\n",
       "      <td>26</td>\n",
       "      <td>low</td>\n",
       "    </tr>\n",
       "    <tr>\n",
       "      <th>2</th>\n",
       "      <td>Allston</td>\n",
       "      <td>431874.0</td>\n",
       "      <td>2015</td>\n",
       "      <td>8</td>\n",
       "      <td>284</td>\n",
       "      <td>38</td>\n",
       "      <td>9</td>\n",
       "      <td>45</td>\n",
       "      <td>low</td>\n",
       "    </tr>\n",
       "    <tr>\n",
       "      <th>3</th>\n",
       "      <td>Allston</td>\n",
       "      <td>438437.0</td>\n",
       "      <td>2015</td>\n",
       "      <td>9</td>\n",
       "      <td>244</td>\n",
       "      <td>28</td>\n",
       "      <td>3</td>\n",
       "      <td>35</td>\n",
       "      <td>low</td>\n",
       "    </tr>\n",
       "    <tr>\n",
       "      <th>4</th>\n",
       "      <td>Allston</td>\n",
       "      <td>442258.0</td>\n",
       "      <td>2015</td>\n",
       "      <td>10</td>\n",
       "      <td>240</td>\n",
       "      <td>35</td>\n",
       "      <td>4</td>\n",
       "      <td>28</td>\n",
       "      <td>low</td>\n",
       "    </tr>\n",
       "  </tbody>\n",
       "</table>\n",
       "</div>"
      ],
      "text/plain": [
       "  Neighborhood    prices  year  month  total crime  violent crime  drug crime  \\\n",
       "0      Allston  419685.0  2015      6          121             18           5   \n",
       "1      Allston  425878.0  2015      7          203             29           3   \n",
       "2      Allston  431874.0  2015      8          284             38           9   \n",
       "3      Allston  438437.0  2015      9          244             28           3   \n",
       "4      Allston  442258.0  2015     10          240             35           4   \n",
       "\n",
       "   housing crime price classified  \n",
       "0             13              low  \n",
       "1             26              low  \n",
       "2             45              low  \n",
       "3             35              low  \n",
       "4             28              low  "
      ]
     },
     "execution_count": 35,
     "metadata": {},
     "output_type": "execute_result"
    }
   ],
   "source": [
    "new_df.head()"
   ]
  },
  {
   "cell_type": "code",
   "execution_count": 155,
   "metadata": {},
   "outputs": [],
   "source": [
    "new_df = pd.read_csv('new_merged_data.csv')"
   ]
  },
  {
   "cell_type": "code",
   "execution_count": 156,
   "metadata": {},
   "outputs": [],
   "source": [
    "average_price = new_df.loc[new_df['price classified'] == 'medium']"
   ]
  },
  {
   "cell_type": "code",
   "execution_count": 157,
   "metadata": {},
   "outputs": [],
   "source": [
    "x = new_df[['prices', 'total crime']]"
   ]
  },
  {
   "cell_type": "code",
   "execution_count": 158,
   "metadata": {},
   "outputs": [
    {
     "data": {
      "text/plain": [
       "1274896.0"
      ]
     },
     "execution_count": 158,
     "metadata": {},
     "output_type": "execute_result"
    }
   ],
   "source": [
    "x['prices'].max()"
   ]
  },
  {
   "cell_type": "code",
   "execution_count": 159,
   "metadata": {},
   "outputs": [
    {
     "data": {
      "text/plain": [
       "KMeans(n_clusters=4)"
      ]
     },
     "execution_count": 159,
     "metadata": {},
     "output_type": "execute_result"
    }
   ],
   "source": [
    "kmeans = KMeans(4)\n",
    "kmeans.fit(x)"
   ]
  },
  {
   "cell_type": "code",
   "execution_count": 160,
   "metadata": {},
   "outputs": [],
   "source": [
    "clusters=x.copy()\n",
    "clusters['clusters_pred']=kmeans.fit_predict(x)"
   ]
  },
  {
   "cell_type": "code",
   "execution_count": 161,
   "metadata": {},
   "outputs": [
    {
     "data": {
      "image/png": "[encoded data removed]",
      "text/plain": [
       "<Figure size 432x288 with 1 Axes>"
      ]
     },
     "metadata": {
      "needs_background": "light"
     },
     "output_type": "display_data"
    }
   ],
   "source": [
    "plt.scatter(clusters['prices'], clusters['total crime'], c=clusters['clusters_pred'], cmap='rainbow')\n",
    "plt.xlabel('prices')\n",
    "plt.ylabel('total crime')\n",
    "plt.show()"
   ]
  },
  {
   "cell_type": "code",
   "execution_count": null,
   "metadata": {},
   "outputs": [],
   "source": []
  }
 ],
 "metadata": {
  "kernelspec": {
   "display_name": "Python 3",
   "language": "python",
   "name": "python3"
  },
  "language_info": {
   "codemirror_mode": {
    "name": "ipython",
    "version": 3
   },
   "file_extension": ".py",
   "mimetype": "text/x-python",
   "name": "python",
   "nbconvert_exporter": "python",
   "pygments_lexer": "ipython3",
   "version": "3.9.0"
  }
 },
 "nbformat": 4,
 "nbformat_minor": 4
}
