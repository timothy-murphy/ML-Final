{
 "cells": [
  {
   "cell_type": "code",
   "execution_count": 38,
   "metadata": {},
   "outputs": [],
   "source": [
    "import pandas as pd\n",
    "from sklearn.neighbors import KNeighborsClassifier\n",
    "import numpy as np\n",
    "from sklearn.model_selection import train_test_split, cross_val_score\n",
    "import csv\n",
    "from csv import writer\n",
    "from csv import reader\n",
    "from sklearn.tree import DecisionTreeClassifier\n",
    "from sklearn.cluster import KMeans\n",
    "from matplotlib import pyplot as plt"
   ]
  },
  {
   "cell_type": "code",
   "execution_count": 39,
   "metadata": {},
   "outputs": [
    {
     "data": {
      "text/html": [
       "<div>\n",
       "<style scoped>\n",
       "    .dataframe tbody tr th:only-of-type {\n",
       "        vertical-align: middle;\n",
       "    }\n",
       "\n",
       "    .dataframe tbody tr th {\n",
       "        vertical-align: top;\n",
       "    }\n",
       "\n",
       "    .dataframe thead th {\n",
       "        text-align: right;\n",
       "    }\n",
       "</style>\n",
       "<table border=\"1\" class=\"dataframe\">\n",
       "  <thead>\n",
       "    <tr style=\"text-align: right;\">\n",
       "      <th></th>\n",
       "      <th>Neighborhood</th>\n",
       "      <th>prices</th>\n",
       "      <th>year</th>\n",
       "      <th>month</th>\n",
       "      <th>total crime</th>\n",
       "      <th>violent crime</th>\n",
       "      <th>drug crime</th>\n",
       "      <th>housing crime</th>\n",
       "      <th>price classified</th>\n",
       "    </tr>\n",
       "  </thead>\n",
       "  <tbody>\n",
       "    <tr>\n",
       "      <th>0</th>\n",
       "      <td>Allston</td>\n",
       "      <td>419685.0</td>\n",
       "      <td>2015</td>\n",
       "      <td>6</td>\n",
       "      <td>121</td>\n",
       "      <td>18</td>\n",
       "      <td>5</td>\n",
       "      <td>13</td>\n",
       "      <td>low</td>\n",
       "    </tr>\n",
       "    <tr>\n",
       "      <th>1</th>\n",
       "      <td>Allston</td>\n",
       "      <td>425878.0</td>\n",
       "      <td>2015</td>\n",
       "      <td>7</td>\n",
       "      <td>203</td>\n",
       "      <td>29</td>\n",
       "      <td>3</td>\n",
       "      <td>26</td>\n",
       "      <td>low</td>\n",
       "    </tr>\n",
       "    <tr>\n",
       "      <th>2</th>\n",
       "      <td>Allston</td>\n",
       "      <td>431874.0</td>\n",
       "      <td>2015</td>\n",
       "      <td>8</td>\n",
       "      <td>284</td>\n",
       "      <td>38</td>\n",
       "      <td>9</td>\n",
       "      <td>45</td>\n",
       "      <td>low</td>\n",
       "    </tr>\n",
       "    <tr>\n",
       "      <th>3</th>\n",
       "      <td>Allston</td>\n",
       "      <td>438437.0</td>\n",
       "      <td>2015</td>\n",
       "      <td>9</td>\n",
       "      <td>244</td>\n",
       "      <td>28</td>\n",
       "      <td>3</td>\n",
       "      <td>35</td>\n",
       "      <td>low</td>\n",
       "    </tr>\n",
       "    <tr>\n",
       "      <th>4</th>\n",
       "      <td>Allston</td>\n",
       "      <td>442258.0</td>\n",
       "      <td>2015</td>\n",
       "      <td>10</td>\n",
       "      <td>240</td>\n",
       "      <td>35</td>\n",
       "      <td>4</td>\n",
       "      <td>28</td>\n",
       "      <td>low</td>\n",
       "    </tr>\n",
       "  </tbody>\n",
       "</table>\n",
       "</div>"
      ],
      "text/plain": [
       "  Neighborhood    prices  year  month  total crime  violent crime  drug crime  \\\n",
       "0      Allston  419685.0  2015      6          121             18           5   \n",
       "1      Allston  425878.0  2015      7          203             29           3   \n",
       "2      Allston  431874.0  2015      8          284             38           9   \n",
       "3      Allston  438437.0  2015      9          244             28           3   \n",
       "4      Allston  442258.0  2015     10          240             35           4   \n",
       "\n",
       "   housing crime price classified  \n",
       "0             13              low  \n",
       "1             26              low  \n",
       "2             45              low  \n",
       "3             35              low  \n",
       "4             28              low  "
      ]
     },
     "execution_count": 39,
     "metadata": {},
     "output_type": "execute_result"
    }
   ],
   "source": [
    "new_df = pd.read_csv('new_merged_data.csv')\n",
    "new_df.head()"
   ]
  },
  {
   "cell_type": "code",
   "execution_count": 40,
   "metadata": {},
   "outputs": [],
   "source": [
    "very_high = new_df.loc[new_df['price classified'] == 'very high']\n",
    "high = new_df.loc[new_df['price classified'] == 'high']\n",
    "medium = new_df.loc[new_df['price classified'] == 'medium']\n",
    "low = new_df.loc[new_df['price classified'] == 'low']\n",
    "\n",
    "very_high_index = len(very_high.index)\n",
    "high_index = len(high.index)\n",
    "medium_index = len(medium.index)\n",
    "low_index = len(low.index)"
   ]
  },
  {
   "cell_type": "code",
   "execution_count": 43,
   "metadata": {},
   "outputs": [
    {
     "name": "stdout",
     "output_type": "stream",
     "text": [
      "    Neighborhood     prices  year  month  total crime  violent crime  \\\n",
      "95      Back Bay  1201619.0  2017      9          326             40   \n",
      "96      Back Bay  1203238.0  2017     10          364             29   \n",
      "97      Back Bay  1205302.0  2017     11          286             27   \n",
      "98      Back Bay  1207919.0  2017     12          332             40   \n",
      "99      Back Bay  1211685.0  2018      1          274             34   \n",
      "..           ...        ...   ...    ...          ...            ...   \n",
      "607     Downtown  1201890.0  2021      5          371             40   \n",
      "608     Downtown  1205131.0  2021      6          410             48   \n",
      "609     Downtown  1209756.0  2021      7          392             45   \n",
      "610     Downtown  1215843.0  2021      8          492             42   \n",
      "611     Downtown  1216014.0  2021      9          462             49   \n",
      "\n",
      "     drug crime  housing crime price classified  \n",
      "95            3             25        very high  \n",
      "96            5             45        very high  \n",
      "97            2             19        very high  \n",
      "98            7             35        very high  \n",
      "99            9             41        very high  \n",
      "..          ...            ...              ...  \n",
      "607          15             31        very high  \n",
      "608          16             30        very high  \n",
      "609          15             30        very high  \n",
      "610          50             36        very high  \n",
      "611          45             41        very high  \n",
      "\n",
      "[62 rows x 9 columns]\n"
     ]
    }
   ],
   "source": [
    "print(very_high)"
   ]
  },
  {
   "cell_type": "code",
   "execution_count": 34,
   "metadata": {},
   "outputs": [
    {
     "name": "stdout",
     "output_type": "stream",
     "text": [
      "Very High Total average: 290.3709677419355\n",
      "High Total average: 155.17194570135746\n",
      "Medium Total average: 254.02132998745296\n",
      "Low Total average: 546.854103343465\n"
     ]
    }
   ],
   "source": [
    "very_total = very_high['total crime'].sum()\n",
    "high_total = high['total crime'].sum()\n",
    "medium_total = medium['total crime'].sum()\n",
    "low_total = low['total crime'].sum()\n",
    "\n",
    "\n",
    "print('Very High Total average: ' + str(very_total/very_high_index))\n",
    "print('High Total average: ' + str(high_total/high_index))\n",
    "print('Medium Total average: ' + str(medium_total/medium_index))\n",
    "print('Low Total average: ' + str(low_total/low_index))"
   ]
  },
  {
   "cell_type": "code",
   "execution_count": 35,
   "metadata": {},
   "outputs": [
    {
     "name": "stdout",
     "output_type": "stream",
     "text": [
      "Very High Violent average: 35.04838709677419\n",
      "High Violent average: 17.986425339366516\n",
      "Medium Violent average: 27.609786700125472\n",
      "Low Violent average: 79.54407294832826\n"
     ]
    }
   ],
   "source": [
    "very_violent = very_high['violent crime'].sum()\n",
    "high_violent = high['violent crime'].sum()\n",
    "medium_violent = medium['violent crime'].sum()\n",
    "low_violent = low['violent crime'].sum()\n",
    "\n",
    "\n",
    "print('Very High Violent average: ' + str(very_violent/very_high_index))\n",
    "print('High Violent average: ' + str(high_violent/high_index))\n",
    "print('Medium Violent average: ' + str(medium_violent/medium_index))\n",
    "print('Low Violent average: ' + str(low_violent/low_index))"
   ]
  },
  {
   "cell_type": "code",
   "execution_count": 36,
   "metadata": {},
   "outputs": [
    {
     "name": "stdout",
     "output_type": "stream",
     "text": [
      "Very High Drug average: 9.048387096774194\n",
      "High Drug average: 6.1289592760181\n",
      "Medium Drug average: 7.910915934755333\n",
      "Low Drug average: 23.838905775075986\n"
     ]
    }
   ],
   "source": [
    "very_drug = very_high['drug crime'].sum()\n",
    "high_drug = high['drug crime'].sum()\n",
    "medium_drug = medium['drug crime'].sum()\n",
    "low_drug = low['drug crime'].sum()\n",
    "\n",
    "print('Very High Drug average: ' + str(very_drug/very_high_index))\n",
    "print('High Drug average: ' + str(high_drug/high_index))\n",
    "print('Medium Drug average: ' + str(medium_drug/medium_index))\n",
    "print('Low Drug average: ' + str(low_drug/low_index))"
   ]
  },
  {
   "cell_type": "code",
   "execution_count": 37,
   "metadata": {},
   "outputs": [
    {
     "name": "stdout",
     "output_type": "stream",
     "text": [
      "Very High Housing average: 25.870967741935484\n",
      "High Housing average: 13.169683257918551\n",
      "Medium Housing average: 15.713927227101632\n",
      "Low Housing average: 28.112462006079028\n"
     ]
    }
   ],
   "source": [
    "very_housing = very_high['housing crime'].sum()\n",
    "high_housing = high['housing crime'].sum()\n",
    "medium_housing = medium['housing crime'].sum()\n",
    "low_housing = low['housing crime'].sum()\n",
    "\n",
    "\n",
    "print('Very High Housing average: ' + str(very_housing/very_high_index))\n",
    "print('High Housing average: ' + str(high_housing/high_index))\n",
    "print('Medium Housing average: ' + str(medium_housing/medium_index))\n",
    "print('Low Housing average: ' + str(low_housing/low_index))"
   ]
  },
  {
   "cell_type": "code",
   "execution_count": null,
   "metadata": {},
   "outputs": [],
   "source": []
  }
 ],
 "metadata": {
  "kernelspec": {
   "display_name": "Python 3",
   "language": "python",
   "name": "python3"
  },
  "language_info": {
   "codemirror_mode": {
    "name": "ipython",
    "version": 3
   },
   "file_extension": ".py",
   "mimetype": "text/x-python",
   "name": "python",
   "nbconvert_exporter": "python",
   "pygments_lexer": "ipython3",
   "version": "3.9.0"
  }
 },
 "nbformat": 4,
 "nbformat_minor": 4
}
